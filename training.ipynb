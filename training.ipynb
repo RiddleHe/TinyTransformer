{
  "nbformat": 4,
  "nbformat_minor": 0,
  "metadata": {
    "colab": {
      "provenance": []
    },
    "kernelspec": {
      "name": "python3",
      "display_name": "Python 3"
    },
    "language_info": {
      "name": "python"
    }
  },
  "cells": [
    {
      "cell_type": "code",
      "source": [
        "%run model.ipynb"
      ],
      "metadata": {
        "id": "O4OA3HSGmeLm"
      },
      "execution_count": null,
      "outputs": []
    },
    {
      "cell_type": "code",
      "source": [
        "block_size = 200\n",
        "batch_size = 32\n",
        "eval_iter = 200\n",
        "eval_interval = 300\n",
        "n_emb = 120\n",
        "n_head = 6\n",
        "n_layer = 4\n",
        "dropout = 0.2\n",
        "max_iters = 4000\n",
        "lr = 3e-4\n",
        "device = torch.device('cuda' if torch.cuda.is_available() else 'cpu')"
      ],
      "metadata": {
        "id": "0nFMYqWclBTY"
      },
      "execution_count": null,
      "outputs": []
    },
    {
      "cell_type": "code",
      "source": [
        "!wget \"https://raw.githubusercontent.com/formcept/whiteboard/master/nbviewer/notebooks/data/harrypotter/Book%201%20-%20The%20Philosopher%27s%20Stone.txt\""
      ],
      "metadata": {
        "id": "_dUKSXI0mubp"
      },
      "execution_count": null,
      "outputs": []
    },
    {
      "cell_type": "code",
      "source": [
        "with open(\"Book 1 - The Philosopher's Stone.txt\", 'r', encoding='utf-8') as f:\n",
        "    text = f.read()"
      ],
      "metadata": {
        "id": "_N8QAXVMmvJf"
      },
      "execution_count": null,
      "outputs": []
    },
    {
      "cell_type": "code",
      "source": [
        "chars = sorted(list(set(text)))\n",
        "voc_size = len(chars)\n",
        "print(\"\".join(chars))"
      ],
      "metadata": {
        "id": "_qMCAQs_mxkc"
      },
      "execution_count": null,
      "outputs": []
    },
    {
      "cell_type": "code",
      "source": [
        "stoi = {s:i for i, s in enumerate(chars)}\n",
        "itos = {i:s for i, s in enumerate(chars)}\n",
        "encode = lambda s: [stoi[c] for c in s]\n",
        "decode = lambda c: \"\".join([itos[ix] for ix in c])\n",
        "\n",
        "print(encode(\"Hi there\"))\n",
        "print(decode(encode(\"Hi there\")))"
      ],
      "metadata": {
        "id": "I7NU5qPzmz5o"
      },
      "execution_count": null,
      "outputs": []
    },
    {
      "cell_type": "code",
      "source": [
        "data = torch.tensor(encode(text), dtype=torch.long,)"
      ],
      "metadata": {
        "id": "xBrKlm_mm1nD"
      },
      "execution_count": null,
      "outputs": []
    },
    {
      "cell_type": "code",
      "source": [
        "n = int(0.9*len(data))\n",
        "train_data = data[:n]\n",
        "val_data = data[n:]"
      ],
      "metadata": {
        "id": "9j5VTYK1m3Ez"
      },
      "execution_count": null,
      "outputs": []
    },
    {
      "cell_type": "code",
      "source": [
        "def get_batch(split):\n",
        "  data = train_data if split=='train' else val_data\n",
        "  ix = torch.randint(len(data)-block_size, (batch_size,))\n",
        "  X = torch.stack([data[i:i+block_size] for i in ix],)\n",
        "  Y = torch.stack([data[i+1:i+block_size+1] for i in ix],)\n",
        "  X, Y = X.to(device), Y.to(device)\n",
        "  return X,Y\n",
        "\n",
        "xb, yb = get_batch('train')\n",
        "print(xb)"
      ],
      "metadata": {
        "id": "rKR9XZZsm4o1"
      },
      "execution_count": null,
      "outputs": []
    },
    {
      "cell_type": "code",
      "source": [
        "@torch.no_grad()\n",
        "def eval_loss():\n",
        "  out = {}\n",
        "  model.eval()\n",
        "  for split in ['train', 'val']:\n",
        "    losses = torch.zeros(eval_iter)\n",
        "    for k in range(eval_iter):\n",
        "      X, Y = get_batch(split)\n",
        "      logits, loss = model(X, Y)\n",
        "      losses[k] = loss\n",
        "    out[split] = losses.mean()\n",
        "  model.train()\n",
        "  return out"
      ],
      "metadata": {
        "id": "SPt38zORm6sl"
      },
      "execution_count": null,
      "outputs": []
    },
    {
      "cell_type": "code",
      "source": [
        "model = TinyGPT()\n",
        "m = model.to(device)"
      ],
      "metadata": {
        "id": "JxojI-kAnF_I"
      },
      "execution_count": null,
      "outputs": []
    },
    {
      "cell_type": "code",
      "source": [
        "optimizer = torch.optim.AdamW(m.parameters(), lr=1e-3)"
      ],
      "metadata": {
        "id": "Bwfux-9gnMMn"
      },
      "execution_count": null,
      "outputs": []
    },
    {
      "cell_type": "code",
      "source": [
        "for i in range(max_iters):\n",
        "\n",
        "  if i%eval_interval==0:\n",
        "    losses = eval_loss()\n",
        "    print(f\"Step {i}: train loss {losses['train']:.4f}, val loss {losses['val']:.4f}\")\n",
        "\n",
        "  xb, yb = get_batch('train')\n",
        "  logits, loss = m(xb, yb)\n",
        "  optimizer.zero_grad(set_to_none=True)\n",
        "  loss.backward()\n",
        "  optimizer.step()\n",
        "\n",
        "print(loss.item())"
      ],
      "metadata": {
        "id": "gM9thxjVnNtL"
      },
      "execution_count": null,
      "outputs": []
    },
    {
      "cell_type": "code",
      "source": [
        "input = torch.zeros((1,1), dtype=torch.long, device=device)\n",
        "out = m.generate(idx=input, max_tokens=5000)[0].tolist()\n",
        "print(decode(out))"
      ],
      "metadata": {
        "id": "5UyHjEainPT_"
      },
      "execution_count": null,
      "outputs": []
    }
  ]
}